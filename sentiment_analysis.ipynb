{
 "cells": [
  {
   "cell_type": "markdown",
   "metadata": {},
   "source": [
    "## Classification of movie reviews\n",
    "--> Binary classification on IMDB dataset\n",
    "<br>--> We have 50000 input reviews\n",
    "<br>--> We will classify review as positive or negative"
   ]
  },
  {
   "cell_type": "code",
   "execution_count": 1,
   "metadata": {},
   "outputs": [],
   "source": [
    "from keras.datasets import imdb\n",
    "# we are using imdb dataset of keras"
   ]
  },
  {
   "cell_type": "markdown",
   "metadata": {},
   "source": [
    "## Data Preparation"
   ]
  },
  {
   "cell_type": "code",
   "execution_count": 36,
   "metadata": {},
   "outputs": [],
   "source": [
    "((XT,YT),(Xt,Yt))=imdb.load_data(num_words=10000) \n",
    "# 10000 is basically the number of unique words, ie. vocabulary size is 10000\n",
    "# so the first most relevant 10000 words will be used."
   ]
  },
  {
   "cell_type": "code",
   "execution_count": 37,
   "metadata": {},
   "outputs": [
    {
     "data": {
      "text/plain": [
       "25000"
      ]
     },
     "execution_count": 37,
     "metadata": {},
     "output_type": "execute_result"
    }
   ],
   "source": [
    "len(XT)\n",
    "# XT --> X_train\n",
    "# ie. half of the reviews will be in training set."
   ]
  },
  {
   "cell_type": "code",
   "execution_count": 38,
   "metadata": {},
   "outputs": [
    {
     "data": {
      "text/plain": [
       "25000"
      ]
     },
     "execution_count": 38,
     "metadata": {},
     "output_type": "execute_result"
    }
   ],
   "source": [
    "len(Xt)\n",
    "# Xt --> X-test\n",
    "# and rest half reviews in test set."
   ]
  },
  {
   "cell_type": "code",
   "execution_count": 39,
   "metadata": {},
   "outputs": [
    {
     "name": "stdout",
     "output_type": "stream",
     "text": [
      "[1, 14, 22, 16, 43, 530, 973, 1622, 1385, 65, 458, 4468, 66, 3941, 4, 173, 36, 256, 5, 25, 100, 43, 838, 112, 50, 670, 2, 9, 35, 480, 284, 5, 150, 4, 172, 112, 167, 2, 336, 385, 39, 4, 172, 4536, 1111, 17, 546, 38, 13, 447, 4, 192, 50, 16, 6, 147, 2025, 19, 14, 22, 4, 1920, 4613, 469, 4, 22, 71, 87, 12, 16, 43, 530, 38, 76, 15, 13, 1247, 4, 22, 17, 515, 17, 12, 16, 626, 18, 2, 5, 62, 386, 12, 8, 316, 8, 106, 5, 4, 2223, 5244, 16, 480, 66, 3785, 33, 4, 130, 12, 16, 38, 619, 5, 25, 124, 51, 36, 135, 48, 25, 1415, 33, 6, 22, 12, 215, 28, 77, 52, 5, 14, 407, 16, 82, 2, 8, 4, 107, 117, 5952, 15, 256, 4, 2, 7, 3766, 5, 723, 36, 71, 43, 530, 476, 26, 400, 317, 46, 7, 4, 2, 1029, 13, 104, 88, 4, 381, 15, 297, 98, 32, 2071, 56, 26, 141, 6, 194, 7486, 18, 4, 226, 22, 21, 134, 476, 26, 480, 5, 144, 30, 5535, 18, 51, 36, 28, 224, 92, 25, 104, 4, 226, 65, 16, 38, 1334, 88, 12, 16, 283, 5, 16, 4472, 113, 103, 32, 15, 16, 5345, 19, 178, 32]\n"
     ]
    }
   ],
   "source": [
    "print(XT[0])\n",
    "# these numbers are nothing but the index of the words of first review present in vocab."
   ]
  },
  {
   "cell_type": "code",
   "execution_count": 40,
   "metadata": {},
   "outputs": [],
   "source": [
    "word_idx=imdb.get_word_index()\n",
    "# this method is used to retrieve those words present at the above indices."
   ]
  },
  {
   "cell_type": "code",
   "execution_count": 41,
   "metadata": {},
   "outputs": [],
   "source": [
    "# print(word_idx.items())\n",
    "# index of every word"
   ]
  },
  {
   "cell_type": "markdown",
   "metadata": {},
   "source": [
    "### To get the actual review:\n",
    "1.first we will create a reverse dictionary<BR>\n",
    "2.then iterate over all index of that review and retrieve the words"
   ]
  },
  {
   "cell_type": "code",
   "execution_count": 42,
   "metadata": {},
   "outputs": [],
   "source": [
    "idx_word= dict([value,key] for (key,value) in word_idx.items())"
   ]
  },
  {
   "cell_type": "code",
   "execution_count": 43,
   "metadata": {},
   "outputs": [],
   "source": [
    "# print(idx_word.items())\n",
    "# reverse dictionary"
   ]
  },
  {
   "cell_type": "code",
   "execution_count": 44,
   "metadata": {},
   "outputs": [],
   "source": [
    "actual_review = ' '.join([idx_word.get(idx-3,'?') for idx in XT[0]])\n",
    "# in above .get() method, we passes the key(index) value of dictionary and then it will return the value at that key.\n",
    "# idx-3.. why? ---> because when the vocabulary is created, it also add 3 words on top of it. And these are: 1) <pad> word\n",
    "                    # 2) <S> start of sentence and 3) <UNK> for unknown words\n"
   ]
  },
  {
   "cell_type": "code",
   "execution_count": 45,
   "metadata": {},
   "outputs": [
    {
     "name": "stdout",
     "output_type": "stream",
     "text": [
      "? this film was just brilliant casting location scenery story direction everyone's really suited the part they played and you could just imagine being there robert ? is an amazing actor and now the same being director ? father came from the same scottish island as myself so i loved the fact there was a real connection with this film the witty remarks throughout the film were great it was just brilliant so much that i bought the film as soon as it was released for ? and would recommend it to everyone to watch and the fly fishing was amazing really cried at the end it was so sad and you know what they say if you cry at a film it must have been good and this definitely was also ? to the two little boy's that played the ? of norman and paul they were just brilliant children are often left out of the ? list i think because the stars that play them all grown up are such a big profile for the whole film but these children are amazing and should be praised for what they have done don't you think the whole story was so lovely because it was true and was someone's life after all that was shared with us all\n"
     ]
    }
   ],
   "source": [
    "print(actual_review)"
   ]
  },
  {
   "cell_type": "markdown",
   "metadata": {},
   "source": [
    "#### Next Step --> Vectorize the data\n",
    "#### Vocab size --> 10000, we will make every sentence as represented by a vector of len 10000. Eg:  [000111000...110000100]"
   ]
  },
  {
   "cell_type": "code",
   "execution_count": 46,
   "metadata": {},
   "outputs": [],
   "source": [
    "import numpy as np"
   ]
  },
  {
   "cell_type": "code",
   "execution_count": 47,
   "metadata": {},
   "outputs": [
    {
     "data": {
      "text/plain": [
       "218"
      ]
     },
     "execution_count": 47,
     "metadata": {},
     "output_type": "execute_result"
    }
   ],
   "source": [
    "len(XT[0])\n",
    "# length of 1st review"
   ]
  },
  {
   "cell_type": "code",
   "execution_count": 48,
   "metadata": {},
   "outputs": [],
   "source": [
    "def vectorize_sentences(sentences,dim=10000):\n",
    "    outputs=np.zeros((len(sentences),dim)) # outputs --> (25000 x 10000) matrix\n",
    "\n",
    "    for i,idx in enumerate (sentences):\n",
    "        outputs[i,idx]=1\n",
    "    return outputs"
   ]
  },
  {
   "cell_type": "code",
   "execution_count": 49,
   "metadata": {},
   "outputs": [],
   "source": [
    "X_train = vectorize_sentences(XT)\n",
    "X_test = vectorize_sentences(Xt)"
   ]
  },
  {
   "cell_type": "code",
   "execution_count": 50,
   "metadata": {},
   "outputs": [
    {
     "name": "stdout",
     "output_type": "stream",
     "text": [
      "(25000, 10000)\n",
      "(25000, 10000)\n"
     ]
    }
   ],
   "source": [
    "print(X_train.shape)\n",
    "print(X_test.shape)\n",
    "# basically in each row we have one review and for that review we have 10000 columns"
   ]
  },
  {
   "cell_type": "code",
   "execution_count": 51,
   "metadata": {},
   "outputs": [
    {
     "name": "stdout",
     "output_type": "stream",
     "text": [
      "[0. 1. 1. ... 0. 0. 0.]\n"
     ]
    }
   ],
   "source": [
    "print(X_train[0])"
   ]
  },
  {
   "cell_type": "code",
   "execution_count": 52,
   "metadata": {},
   "outputs": [],
   "source": [
    "Y_train=np.asarray(YT).astype('float32')\n",
    "Y_test=np.asarray(Yt).astype('float32')"
   ]
  },
  {
   "cell_type": "code",
   "execution_count": 53,
   "metadata": {},
   "outputs": [
    {
     "name": "stdout",
     "output_type": "stream",
     "text": [
      "25000\n",
      "25000\n"
     ]
    }
   ],
   "source": [
    "print(Y_train.shape[0]) \n",
    "print(Y_test.shape[0])"
   ]
  },
  {
   "cell_type": "code",
   "execution_count": 54,
   "metadata": {},
   "outputs": [
    {
     "name": "stdout",
     "output_type": "stream",
     "text": [
      "[1. 0. 0. ... 0. 1. 0.]\n"
     ]
    }
   ],
   "source": [
    "print(Y_train)\n",
    "# 1 --> positive\n",
    "# 0 --> negative"
   ]
  },
  {
   "cell_type": "markdown",
   "metadata": {},
   "source": [
    "### Defining the model architecture\n",
    "<ul><li>Use Fully Connected/ Dense Layers with ReLu activation\n",
    "<li>2 Hidden layers with 16 units each\n",
    "<li>1 output layer with 1 unit (Sigmoid activation)"
   ]
  },
  {
   "cell_type": "code",
   "execution_count": 55,
   "metadata": {},
   "outputs": [],
   "source": [
    "from keras import models\n",
    "from keras.layers import Dense"
   ]
  },
  {
   "cell_type": "code",
   "execution_count": 56,
   "metadata": {},
   "outputs": [],
   "source": [
    "# Defining the model\n",
    "model=models.Sequential()\n",
    "model.add(Dense(16,activation='relu',input_shape=(10000,))) # first hidden layer having 16 neurons.\n",
    "model.add(Dense(16,activation='relu')) # second hidden layer having 16 neurons.\n",
    "model.add(Dense(1,activation='sigmoid')) # output layer having only 1 neuron which can be used for binary classification."
   ]
  },
  {
   "cell_type": "code",
   "execution_count": 57,
   "metadata": {},
   "outputs": [],
   "source": [
    "# Compile the model\n",
    "model.compile(optimizer='rmsprop',loss='binary_crossentropy',metrics=['accuracy'])"
   ]
  },
  {
   "cell_type": "code",
   "execution_count": 58,
   "metadata": {},
   "outputs": [
    {
     "name": "stdout",
     "output_type": "stream",
     "text": [
      "Model: \"sequential_1\"\n",
      "_________________________________________________________________\n",
      "Layer (type)                 Output Shape              Param #   \n",
      "=================================================================\n",
      "dense_3 (Dense)              (None, 16)                160016    \n",
      "_________________________________________________________________\n",
      "dense_4 (Dense)              (None, 16)                272       \n",
      "_________________________________________________________________\n",
      "dense_5 (Dense)              (None, 1)                 17        \n",
      "=================================================================\n",
      "Total params: 160,305\n",
      "Trainable params: 160,305\n",
      "Non-trainable params: 0\n",
      "_________________________________________________________________\n"
     ]
    }
   ],
   "source": [
    "model.summary()\n",
    "# parameters are nothing but weights and biases\n",
    "# 160016 = (10000 * 16) + 16, 10000-->features || 16-->neurons in H1 layer || 16-->bias term\n",
    "# 272 = (16 * 16) + 16, 16-->neurons in H1 layer || 16-->neurons in H2 layer || 16-->bias term\n",
    "# 17 = (16 * 1) + 1, 16-->neurons in H2 layer || 1-->neurons in O/P layer || 1-->bias term"
   ]
  },
  {
   "cell_type": "markdown",
   "metadata": {},
   "source": [
    "#### Training and Validation"
   ]
  },
  {
   "cell_type": "code",
   "execution_count": 59,
   "metadata": {},
   "outputs": [],
   "source": [
    "x_val=X_train[:5000] # take the first 5000 example from training set\n",
    "x_train_new = X_train[5000:] \n",
    "\n",
    "y_val = Y_train[:5000]\n",
    "y_train_new = Y_train[5000:]"
   ]
  },
  {
   "cell_type": "code",
   "execution_count": 60,
   "metadata": {},
   "outputs": [
    {
     "name": "stdout",
     "output_type": "stream",
     "text": [
      "(5000, 10000)\n",
      "(20000, 10000)\n",
      "(5000,)\n",
      "(20000,)\n"
     ]
    }
   ],
   "source": [
    "print(x_val.shape)\n",
    "print(x_train_new.shape)\n",
    "print(y_val.shape)\n",
    "print(y_train_new.shape)"
   ]
  },
  {
   "cell_type": "code",
   "execution_count": 29,
   "metadata": {},
   "outputs": [
    {
     "name": "stdout",
     "output_type": "stream",
     "text": [
      "Epoch 1/20\n",
      "40/40 [==============================] - 2s 56ms/step - loss: 0.5188 - accuracy: 0.7901 - val_loss: 0.3948 - val_accuracy: 0.8618\n",
      "Epoch 2/20\n",
      "40/40 [==============================] - 1s 35ms/step - loss: 0.3067 - accuracy: 0.9008 - val_loss: 0.3041 - val_accuracy: 0.8838\n",
      "Epoch 3/20\n",
      "40/40 [==============================] - 1s 37ms/step - loss: 0.2199 - accuracy: 0.9262 - val_loss: 0.3208 - val_accuracy: 0.8706\n",
      "Epoch 4/20\n",
      "40/40 [==============================] - 1s 36ms/step - loss: 0.1758 - accuracy: 0.9415 - val_loss: 0.2738 - val_accuracy: 0.8924\n",
      "Epoch 5/20\n",
      "40/40 [==============================] - 1s 36ms/step - loss: 0.1465 - accuracy: 0.9502 - val_loss: 0.2808 - val_accuracy: 0.8900\n",
      "Epoch 6/20\n",
      "40/40 [==============================] - 1s 36ms/step - loss: 0.1221 - accuracy: 0.9600 - val_loss: 0.3055 - val_accuracy: 0.8842\n",
      "Epoch 7/20\n",
      "40/40 [==============================] - 1s 36ms/step - loss: 0.1043 - accuracy: 0.9666 - val_loss: 0.3364 - val_accuracy: 0.8800\n",
      "Epoch 8/20\n",
      "40/40 [==============================] - 1s 35ms/step - loss: 0.0874 - accuracy: 0.9728 - val_loss: 0.4222 - val_accuracy: 0.8626\n",
      "Epoch 9/20\n",
      "40/40 [==============================] - 1s 36ms/step - loss: 0.0734 - accuracy: 0.9776 - val_loss: 0.3592 - val_accuracy: 0.8792\n",
      "Epoch 10/20\n",
      "40/40 [==============================] - 1s 35ms/step - loss: 0.0626 - accuracy: 0.9819 - val_loss: 0.3972 - val_accuracy: 0.8746\n",
      "Epoch 11/20\n",
      "40/40 [==============================] - 1s 35ms/step - loss: 0.0506 - accuracy: 0.9859 - val_loss: 0.4044 - val_accuracy: 0.8772\n",
      "Epoch 12/20\n",
      "40/40 [==============================] - 1s 35ms/step - loss: 0.0407 - accuracy: 0.9894 - val_loss: 0.4491 - val_accuracy: 0.8748\n",
      "Epoch 13/20\n",
      "40/40 [==============================] - 1s 35ms/step - loss: 0.0338 - accuracy: 0.9918 - val_loss: 0.4829 - val_accuracy: 0.8704\n",
      "Epoch 14/20\n",
      "40/40 [==============================] - 1s 36ms/step - loss: 0.0274 - accuracy: 0.9934 - val_loss: 0.5038 - val_accuracy: 0.8702\n",
      "Epoch 15/20\n",
      "40/40 [==============================] - 1s 36ms/step - loss: 0.0211 - accuracy: 0.9952 - val_loss: 0.5703 - val_accuracy: 0.8668\n",
      "Epoch 16/20\n",
      "40/40 [==============================] - 1s 36ms/step - loss: 0.0158 - accuracy: 0.9972 - val_loss: 0.6757 - val_accuracy: 0.8564\n",
      "Epoch 17/20\n",
      "40/40 [==============================] - 1s 35ms/step - loss: 0.0115 - accuracy: 0.9980 - val_loss: 0.6249 - val_accuracy: 0.8688\n",
      "Epoch 18/20\n",
      "40/40 [==============================] - 1s 36ms/step - loss: 0.0109 - accuracy: 0.9980 - val_loss: 0.6494 - val_accuracy: 0.8682\n",
      "Epoch 19/20\n",
      "40/40 [==============================] - 1s 34ms/step - loss: 0.0098 - accuracy: 0.9977 - val_loss: 0.7002 - val_accuracy: 0.8642\n",
      "Epoch 20/20\n",
      "40/40 [==============================] - 1s 33ms/step - loss: 0.0083 - accuracy: 0.9984 - val_loss: 0.7155 - val_accuracy: 0.8658\n"
     ]
    }
   ],
   "source": [
    "hist = model.fit(x_train_new, y_train_new,epochs=20,batch_size=512,validation_data=(x_val,y_val))\n",
    "# where hist is a history object"
   ]
  },
  {
   "cell_type": "code",
   "execution_count": 30,
   "metadata": {},
   "outputs": [],
   "source": [
    "import matplotlib.pyplot as plt"
   ]
  },
  {
   "cell_type": "code",
   "execution_count": 31,
   "metadata": {},
   "outputs": [],
   "source": [
    "plt.style.use('seaborn')"
   ]
  },
  {
   "cell_type": "code",
   "execution_count": 32,
   "metadata": {},
   "outputs": [
    {
     "data": {
      "text/plain": [
       "{'loss': [0.5188030004501343,\n",
       "  0.30671849846839905,\n",
       "  0.21986174583435059,\n",
       "  0.17580820620059967,\n",
       "  0.1465102732181549,\n",
       "  0.12213166803121567,\n",
       "  0.10432640463113785,\n",
       "  0.08737330883741379,\n",
       "  0.07343398034572601,\n",
       "  0.06259629875421524,\n",
       "  0.05064297467470169,\n",
       "  0.040713611990213394,\n",
       "  0.03379734978079796,\n",
       "  0.027390899136662483,\n",
       "  0.021103743463754654,\n",
       "  0.015849800780415535,\n",
       "  0.011519049294292927,\n",
       "  0.010906651616096497,\n",
       "  0.009774910286068916,\n",
       "  0.008336372673511505],\n",
       " 'accuracy': [0.7900999784469604,\n",
       "  0.9007999897003174,\n",
       "  0.9261999726295471,\n",
       "  0.9415000081062317,\n",
       "  0.9501500129699707,\n",
       "  0.9600499868392944,\n",
       "  0.9666000008583069,\n",
       "  0.9727500081062317,\n",
       "  0.977649986743927,\n",
       "  0.9818500280380249,\n",
       "  0.9859499931335449,\n",
       "  0.9894000291824341,\n",
       "  0.9918000102043152,\n",
       "  0.9933500289916992,\n",
       "  0.9952499866485596,\n",
       "  0.9971500039100647,\n",
       "  0.9980499744415283,\n",
       "  0.9980499744415283,\n",
       "  0.9976999759674072,\n",
       "  0.998449981212616],\n",
       " 'val_loss': [0.394841730594635,\n",
       "  0.30411046743392944,\n",
       "  0.3208104372024536,\n",
       "  0.2738078236579895,\n",
       "  0.2807566523551941,\n",
       "  0.3055429458618164,\n",
       "  0.3364097476005554,\n",
       "  0.42223525047302246,\n",
       "  0.35915711522102356,\n",
       "  0.397228479385376,\n",
       "  0.404445618391037,\n",
       "  0.44911426305770874,\n",
       "  0.48289722204208374,\n",
       "  0.5038043260574341,\n",
       "  0.570259153842926,\n",
       "  0.6756998896598816,\n",
       "  0.6248851418495178,\n",
       "  0.6493852734565735,\n",
       "  0.7001558542251587,\n",
       "  0.7154819369316101],\n",
       " 'val_accuracy': [0.8618000149726868,\n",
       "  0.8838000297546387,\n",
       "  0.8705999851226807,\n",
       "  0.8924000263214111,\n",
       "  0.8899999856948853,\n",
       "  0.8841999769210815,\n",
       "  0.8799999952316284,\n",
       "  0.8626000285148621,\n",
       "  0.8791999816894531,\n",
       "  0.8745999932289124,\n",
       "  0.8772000074386597,\n",
       "  0.8748000264167786,\n",
       "  0.8704000115394592,\n",
       "  0.870199978351593,\n",
       "  0.8668000102043152,\n",
       "  0.8564000129699707,\n",
       "  0.8687999844551086,\n",
       "  0.8682000041007996,\n",
       "  0.8641999959945679,\n",
       "  0.8658000230789185]}"
      ]
     },
     "execution_count": 32,
     "metadata": {},
     "output_type": "execute_result"
    }
   ],
   "source": [
    "hist.history\n",
    "# it is a dictionary having keys as 'accuracy' , 'loss', 'val_accuracy' and their values"
   ]
  },
  {
   "cell_type": "code",
   "execution_count": 33,
   "metadata": {},
   "outputs": [],
   "source": [
    "h = hist.history"
   ]
  },
  {
   "cell_type": "code",
   "execution_count": 34,
   "metadata": {},
   "outputs": [
    {
     "data": {
      "image/png": "[encoded data removed]",
      "text/plain": [
       "<Figure size 576x396 with 1 Axes>"
      ]
     },
     "metadata": {},
     "output_type": "display_data"
    }
   ],
   "source": [
    "plt.plot(h['val_loss'],label=\"Validation Loss\")\n",
    "plt.plot(h['loss'],label=\"Training Loss\")\n",
    "plt.xlabel(\"Epochs\")\n",
    "plt.ylabel(\"Loss\")\n",
    "plt.legend()\n",
    "plt.show()\n",
    "# ie, after some epochs our validation loss decreases but after that it starts to increase which basically means overfitting"
   ]
  },
  {
   "cell_type": "code",
   "execution_count": 35,
   "metadata": {},
   "outputs": [
    {
     "data": {
      "image/png": "[encoded data removed]",
      "text/plain": [
       "<Figure size 576x396 with 1 Axes>"
      ]
     },
     "metadata": {},
     "output_type": "display_data"
    }
   ],
   "source": [
    "plt.plot(h['val_accuracy'],label=\"Validation Acc\")\n",
    "plt.plot(h['accuracy'],label=\"Training Acc\")\n",
    "plt.xlabel(\"Epochs\")\n",
    "plt.ylabel(\"Accuracy\")\n",
    "plt.legend()\n",
    "plt.show()\n",
    "# after some epochs, validation accuracy starts to decrease---> overfitting\n",
    "# so now we will stop after some 3-4 epochs called as stop early."
   ]
  },
  {
   "cell_type": "markdown",
   "metadata": {},
   "source": [
    "### So now we will run our model for 4 epochs"
   ]
  },
  {
   "cell_type": "code",
   "execution_count": 61,
   "metadata": {},
   "outputs": [
    {
     "name": "stdout",
     "output_type": "stream",
     "text": [
      "Epoch 1/4\n",
      "40/40 [==============================] - 2s 52ms/step - loss: 0.5122 - accuracy: 0.7929 - val_loss: 0.3815 - val_accuracy: 0.8758\n",
      "Epoch 2/4\n",
      "40/40 [==============================] - 1s 34ms/step - loss: 0.2942 - accuracy: 0.9063 - val_loss: 0.3491 - val_accuracy: 0.8590\n",
      "Epoch 3/4\n",
      "40/40 [==============================] - 2s 39ms/step - loss: 0.2154 - accuracy: 0.9288 - val_loss: 0.2716 - val_accuracy: 0.8918\n",
      "Epoch 4/4\n",
      "40/40 [==============================] - 1s 33ms/step - loss: 0.1734 - accuracy: 0.9411 - val_loss: 0.2736 - val_accuracy: 0.8916\n"
     ]
    }
   ],
   "source": [
    "# when epochs = 4\n",
    "hist = model.fit(x_train_new, y_train_new,epochs=4,batch_size=512,validation_data=(x_val,y_val))"
   ]
  },
  {
   "cell_type": "code",
   "execution_count": 62,
   "metadata": {},
   "outputs": [],
   "source": [
    "h = hist.history"
   ]
  },
  {
   "cell_type": "code",
   "execution_count": 63,
   "metadata": {},
   "outputs": [
    {
     "data": {
      "image/png": "[encoded data removed]",
      "text/plain": [
       "<Figure size 576x396 with 1 Axes>"
      ]
     },
     "metadata": {},
     "output_type": "display_data"
    }
   ],
   "source": [
    "plt.plot(h['val_loss'],label=\"Validation Loss\")\n",
    "plt.plot(h['loss'],label=\"Training Loss\")\n",
    "plt.xlabel(\"Epochs\")\n",
    "plt.ylabel(\"Loss\")\n",
    "plt.legend()\n",
    "plt.show()"
   ]
  },
  {
   "cell_type": "code",
   "execution_count": 64,
   "metadata": {},
   "outputs": [
    {
     "data": {
      "image/png": "[encoded data removed]",
      "text/plain": [
       "<Figure size 576x396 with 1 Axes>"
      ]
     },
     "metadata": {},
     "output_type": "display_data"
    }
   ],
   "source": [
    "plt.plot(h['val_accuracy'],label=\"Validation Acc\")\n",
    "plt.plot(h['accuracy'],label=\"Training Acc\")\n",
    "plt.xlabel(\"Epochs\")\n",
    "plt.ylabel(\"Accuracy\")\n",
    "plt.legend()\n",
    "plt.show()"
   ]
  },
  {
   "cell_type": "code",
   "execution_count": 65,
   "metadata": {},
   "outputs": [
    {
     "name": "stdout",
     "output_type": "stream",
     "text": [
      "782/782 [==============================] - 3s 3ms/step - loss: 0.2959 - accuracy: 0.8820\n"
     ]
    },
    {
     "data": {
      "text/plain": [
       "[0.2959291934967041, 0.8819599747657776]"
      ]
     },
     "execution_count": 65,
     "metadata": {},
     "output_type": "execute_result"
    }
   ],
   "source": [
    "model.evaluate(X_test,Y_test)\n",
    "# 2nd values is accuracy on test set"
   ]
  },
  {
   "cell_type": "code",
   "execution_count": 66,
   "metadata": {},
   "outputs": [
    {
     "name": "stdout",
     "output_type": "stream",
     "text": [
      "782/782 [==============================] - 3s 3ms/step - loss: 0.2959 - accuracy: 0.8820\n"
     ]
    },
    {
     "data": {
      "text/plain": [
       "0.8819599747657776"
      ]
     },
     "execution_count": 66,
     "metadata": {},
     "output_type": "execute_result"
    }
   ],
   "source": [
    "model.evaluate(X_test,Y_test)[1]"
   ]
  },
  {
   "cell_type": "code",
   "execution_count": 67,
   "metadata": {},
   "outputs": [
    {
     "name": "stdout",
     "output_type": "stream",
     "text": [
      "782/782 [==============================] - 3s 4ms/step - loss: 0.1638 - accuracy: 0.9454\n"
     ]
    },
    {
     "data": {
      "text/plain": [
       "0.9454399943351746"
      ]
     },
     "execution_count": 67,
     "metadata": {},
     "output_type": "execute_result"
    }
   ],
   "source": [
    "model.evaluate(X_train,Y_train)[1]"
   ]
  },
  {
   "cell_type": "code",
   "execution_count": 68,
   "metadata": {},
   "outputs": [],
   "source": [
    "result=model.predict(X_test)\n",
    "# result basically has the probability of each reviews that by what probability it can be 1"
   ]
  },
  {
   "cell_type": "code",
   "execution_count": 69,
   "metadata": {},
   "outputs": [
    {
     "data": {
      "text/plain": [
       "(25000, 1)"
      ]
     },
     "execution_count": 69,
     "metadata": {},
     "output_type": "execute_result"
    }
   ],
   "source": [
    "result.shape"
   ]
  },
  {
   "cell_type": "code",
   "execution_count": 71,
   "metadata": {},
   "outputs": [
    {
     "data": {
      "text/plain": [
       "array([0.17411408], dtype=float32)"
      ]
     },
     "execution_count": 71,
     "metadata": {},
     "output_type": "execute_result"
    }
   ],
   "source": [
    "result[0]\n",
    "# it says that there is 0.17 probability that it can be a '1' ie positive review."
   ]
  },
  {
   "cell_type": "code",
   "execution_count": 73,
   "metadata": {},
   "outputs": [
    {
     "data": {
      "text/plain": [
       "array([0.99990356], dtype=float32)"
      ]
     },
     "execution_count": 73,
     "metadata": {},
     "output_type": "execute_result"
    }
   ],
   "source": [
    "result[1]\n",
    "# it says that there is 0.99 probability that it can be a '1' ie positive review."
   ]
  },
  {
   "cell_type": "code",
   "execution_count": null,
   "metadata": {},
   "outputs": [],
   "source": []
  }
 ],
 "metadata": {
  "kernelspec": {
   "display_name": "Python 3",
   "language": "python",
   "name": "python3"
  },
  "language_info": {
   "codemirror_mode": {
    "name": "ipython",
    "version": 3
   },
   "file_extension": ".py",
   "mimetype": "text/x-python",
   "name": "python",
   "nbconvert_exporter": "python",
   "pygments_lexer": "ipython3",
   "version": "3.7.5"
  }
 },
 "nbformat": 4,
 "nbformat_minor": 4
}
